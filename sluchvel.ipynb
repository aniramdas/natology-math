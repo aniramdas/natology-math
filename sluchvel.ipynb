{
 "cells": [
  {
   "cell_type": "markdown",
   "metadata": {},
   "source": [
    "Уровень 0. Задание 1"
   ]
  },
  {
   "cell_type": "code",
   "execution_count": 1,
   "metadata": {},
   "outputs": [],
   "source": [
    "import numpy as np"
   ]
  },
  {
   "cell_type": "code",
   "execution_count": 12,
   "metadata": {},
   "outputs": [
    {
     "name": "stdout",
     "output_type": "stream",
     "text": [
      "0.5333333333333333\n"
     ]
    }
   ],
   "source": [
    "trials = 15\n",
    "orel = 0\n",
    "\n",
    "for i in range(trials):\n",
    "    random_score = np.random.randint(0, 2)\n",
    "    if random_score == 1:\n",
    "        orel += 1\n",
    "        \n",
    "p = orel / trials\n",
    "print(p)"
   ]
  },
  {
   "cell_type": "markdown",
   "metadata": {},
   "source": [
    "Задание 2"
   ]
  },
  {
   "cell_type": "code",
   "execution_count": 13,
   "metadata": {},
   "outputs": [],
   "source": [
    "from scipy.stats import *"
   ]
  },
  {
   "cell_type": "code",
   "execution_count": 14,
   "metadata": {},
   "outputs": [
    {
     "data": {
      "text/plain": [
       "array([4, 3, 7, 2, 6, 7, 1, 1, 1, 3])"
      ]
     },
     "execution_count": 14,
     "metadata": {},
     "output_type": "execute_result"
    }
   ],
   "source": [
    "sv = np.random.randint(low = 1, high = 10, size = 10)\n",
    "sv"
   ]
  },
  {
   "cell_type": "code",
   "execution_count": 15,
   "metadata": {},
   "outputs": [],
   "source": [
    "sampling_data = np.random.choice(sv, size=1000)"
   ]
  },
  {
   "cell_type": "code",
   "execution_count": 17,
   "metadata": {},
   "outputs": [],
   "source": [
    "import seaborn as sns"
   ]
  },
  {
   "cell_type": "code",
   "execution_count": 23,
   "metadata": {},
   "outputs": [
    {
     "name": "stderr",
     "output_type": "stream",
     "text": [
      "D:\\Anaconda\\lib\\site-packages\\seaborn\\distributions.py:2551: FutureWarning: `distplot` is a deprecated function and will be removed in a future version. Please adapt your code to use either `displot` (a figure-level function with similar flexibility) or `histplot` (an axes-level function for histograms).\n",
      "  warnings.warn(msg, FutureWarning)\n"
     ]
    },
    {
     "data": {
      "text/plain": [
       "[Text(0.5, 0, 'Data_values'), Text(0, 0.5, 'Frequency')]"
      ]
     },
     "execution_count": 23,
     "metadata": {},
     "output_type": "execute_result"
    },
    {
     "data": {
      "image/png": "[encoded data removed]",
      "text/plain": [
       "<Figure size 432x288 with 1 Axes>"
      ]
     },
     "metadata": {
      "needs_background": "light"
     },
     "output_type": "display_data"
    }
   ],
   "source": [
    "ax=sns.distplot(sampling_data,\n",
    "kde=True,\n",
    "color='pink',\n",
    "hist_kws={\"linewidth\": 22,'alpha':0.77})\n",
    "ax.set(xlabel='Data_values',ylabel='Frequency')"
   ]
  },
  {
   "cell_type": "code",
   "execution_count": 24,
   "metadata": {},
   "outputs": [
    {
     "name": "stdout",
     "output_type": "stream",
     "text": [
      "среднее арифметическое равно 3.441\n",
      "медиана равна 3.0\n",
      "дисперсия равна 5.024519000000001\n"
     ]
    }
   ],
   "source": [
    "print(f'среднее арифметическое равно {np.mean(sampling_data)}')\n",
    "print(f'медиана равна {np.median(sampling_data)}')\n",
    "print(f'дисперсия равна {np.var(sampling_data)}')"
   ]
  },
  {
   "cell_type": "markdown",
   "metadata": {},
   "source": [
    "Уровень 1. Задание 3"
   ]
  },
  {
   "cell_type": "code",
   "execution_count": 26,
   "metadata": {},
   "outputs": [],
   "source": [
    "import pandas as pd"
   ]
  },
  {
   "cell_type": "code",
   "execution_count": 27,
   "metadata": {},
   "outputs": [
    {
     "data": {
      "text/html": [
       "<div>\n",
       "<style scoped>\n",
       "    .dataframe tbody tr th:only-of-type {\n",
       "        vertical-align: middle;\n",
       "    }\n",
       "\n",
       "    .dataframe tbody tr th {\n",
       "        vertical-align: top;\n",
       "    }\n",
       "\n",
       "    .dataframe thead th {\n",
       "        text-align: right;\n",
       "    }\n",
       "</style>\n",
       "<table border=\"1\" class=\"dataframe\">\n",
       "  <thead>\n",
       "    <tr style=\"text-align: right;\">\n",
       "      <th></th>\n",
       "      <th>M1</th>\n",
       "      <th>M2</th>\n",
       "      <th>M3</th>\n",
       "    </tr>\n",
       "  </thead>\n",
       "  <tbody>\n",
       "    <tr>\n",
       "      <th>0</th>\n",
       "      <td>0</td>\n",
       "      <td>0</td>\n",
       "      <td>0</td>\n",
       "    </tr>\n",
       "    <tr>\n",
       "      <th>1</th>\n",
       "      <td>0</td>\n",
       "      <td>0</td>\n",
       "      <td>1</td>\n",
       "    </tr>\n",
       "    <tr>\n",
       "      <th>2</th>\n",
       "      <td>0</td>\n",
       "      <td>1</td>\n",
       "      <td>0</td>\n",
       "    </tr>\n",
       "    <tr>\n",
       "      <th>3</th>\n",
       "      <td>0</td>\n",
       "      <td>1</td>\n",
       "      <td>1</td>\n",
       "    </tr>\n",
       "    <tr>\n",
       "      <th>4</th>\n",
       "      <td>1</td>\n",
       "      <td>0</td>\n",
       "      <td>0</td>\n",
       "    </tr>\n",
       "    <tr>\n",
       "      <th>5</th>\n",
       "      <td>1</td>\n",
       "      <td>0</td>\n",
       "      <td>1</td>\n",
       "    </tr>\n",
       "    <tr>\n",
       "      <th>6</th>\n",
       "      <td>1</td>\n",
       "      <td>1</td>\n",
       "      <td>0</td>\n",
       "    </tr>\n",
       "    <tr>\n",
       "      <th>7</th>\n",
       "      <td>1</td>\n",
       "      <td>1</td>\n",
       "      <td>1</td>\n",
       "    </tr>\n",
       "  </tbody>\n",
       "</table>\n",
       "</div>"
      ],
      "text/plain": [
       "   M1  M2  M3\n",
       "0   0   0   0\n",
       "1   0   0   1\n",
       "2   0   1   0\n",
       "3   0   1   1\n",
       "4   1   0   0\n",
       "5   1   0   1\n",
       "6   1   1   0\n",
       "7   1   1   1"
      ]
     },
     "execution_count": 27,
     "metadata": {},
     "output_type": "execute_result"
    }
   ],
   "source": [
    "df = pd.DataFrame({'M1':[0,0,0,0,1,1,1,1],\n",
    "                  'M2':[0,0,1,1,0,0,1,1],\n",
    "                  'M3':[0,1,0,1,0,1,0,1]})\n",
    "df"
   ]
  },
  {
   "cell_type": "code",
   "execution_count": 28,
   "metadata": {},
   "outputs": [
    {
     "data": {
      "text/html": [
       "<div>\n",
       "<style scoped>\n",
       "    .dataframe tbody tr th:only-of-type {\n",
       "        vertical-align: middle;\n",
       "    }\n",
       "\n",
       "    .dataframe tbody tr th {\n",
       "        vertical-align: top;\n",
       "    }\n",
       "\n",
       "    .dataframe thead th {\n",
       "        text-align: right;\n",
       "    }\n",
       "</style>\n",
       "<table border=\"1\" class=\"dataframe\">\n",
       "  <thead>\n",
       "    <tr style=\"text-align: right;\">\n",
       "      <th></th>\n",
       "      <th>M1</th>\n",
       "      <th>M2</th>\n",
       "      <th>M3</th>\n",
       "      <th>A1</th>\n",
       "      <th>A2</th>\n",
       "      <th>A3</th>\n",
       "    </tr>\n",
       "  </thead>\n",
       "  <tbody>\n",
       "    <tr>\n",
       "      <th>0</th>\n",
       "      <td>0</td>\n",
       "      <td>0</td>\n",
       "      <td>0</td>\n",
       "      <td>True</td>\n",
       "      <td>True</td>\n",
       "      <td>True</td>\n",
       "    </tr>\n",
       "    <tr>\n",
       "      <th>1</th>\n",
       "      <td>0</td>\n",
       "      <td>0</td>\n",
       "      <td>1</td>\n",
       "      <td>True</td>\n",
       "      <td>False</td>\n",
       "      <td>False</td>\n",
       "    </tr>\n",
       "    <tr>\n",
       "      <th>2</th>\n",
       "      <td>0</td>\n",
       "      <td>1</td>\n",
       "      <td>0</td>\n",
       "      <td>False</td>\n",
       "      <td>False</td>\n",
       "      <td>True</td>\n",
       "    </tr>\n",
       "    <tr>\n",
       "      <th>3</th>\n",
       "      <td>0</td>\n",
       "      <td>1</td>\n",
       "      <td>1</td>\n",
       "      <td>False</td>\n",
       "      <td>True</td>\n",
       "      <td>False</td>\n",
       "    </tr>\n",
       "    <tr>\n",
       "      <th>4</th>\n",
       "      <td>1</td>\n",
       "      <td>0</td>\n",
       "      <td>0</td>\n",
       "      <td>False</td>\n",
       "      <td>True</td>\n",
       "      <td>False</td>\n",
       "    </tr>\n",
       "    <tr>\n",
       "      <th>5</th>\n",
       "      <td>1</td>\n",
       "      <td>0</td>\n",
       "      <td>1</td>\n",
       "      <td>False</td>\n",
       "      <td>False</td>\n",
       "      <td>True</td>\n",
       "    </tr>\n",
       "    <tr>\n",
       "      <th>6</th>\n",
       "      <td>1</td>\n",
       "      <td>1</td>\n",
       "      <td>0</td>\n",
       "      <td>True</td>\n",
       "      <td>False</td>\n",
       "      <td>False</td>\n",
       "    </tr>\n",
       "    <tr>\n",
       "      <th>7</th>\n",
       "      <td>1</td>\n",
       "      <td>1</td>\n",
       "      <td>1</td>\n",
       "      <td>True</td>\n",
       "      <td>True</td>\n",
       "      <td>True</td>\n",
       "    </tr>\n",
       "  </tbody>\n",
       "</table>\n",
       "</div>"
      ],
      "text/plain": [
       "   M1  M2  M3     A1     A2     A3\n",
       "0   0   0   0   True   True   True\n",
       "1   0   0   1   True  False  False\n",
       "2   0   1   0  False  False   True\n",
       "3   0   1   1  False   True  False\n",
       "4   1   0   0  False   True  False\n",
       "5   1   0   1  False  False   True\n",
       "6   1   1   0   True  False  False\n",
       "7   1   1   1   True   True   True"
      ]
     },
     "execution_count": 28,
     "metadata": {},
     "output_type": "execute_result"
    }
   ],
   "source": [
    "df.loc[df.M1==df.M2, 'A1'] = True # монеты 1 и 2 упали одной стороной -> исход, благоприятный для А1\n",
    "df.loc[df.M2==df.M3, 'A2'] = True # аналогично для А2\n",
    "df.loc[df.M1==df.M3, 'A3'] = True # аналогично для А3\n",
    "df.fillna(False, inplace=True)\n",
    "df"
   ]
  },
  {
   "cell_type": "markdown",
   "metadata": {},
   "source": [
    "Пересечение событий А1 и А2 указывает на то, что первая и вторая монеты упали одной стороной и одновременно вторая и третья монеты упали одной стороной, то есть все три монеты упали одной стороной одновременно.\n",
    "\n",
    "У нас есть 2 таких исхода из 8, соотвественно Р(А1А2) = 2/8 = 1/4\n",
    "Подставим значения вероятностей в нашу формулу $P(A1A2) = P(A1)*P(A2)$ и получим:\n",
    "$1/4 = 1/2 * 1/2$"
   ]
  },
  {
   "cell_type": "markdown",
   "metadata": {},
   "source": [
    "Аналогично получим $P(А2А1) = P(A2)*P(A1)$ и это означает, что А1 и А2 попарно независимые. Аналогично доказывается, что попарно независимы А2 и А3, А1 и А3."
   ]
  },
  {
   "cell_type": "markdown",
   "metadata": {},
   "source": [
    "Рассмотрим одновременное наступление событий А1, А2 и А3 как пересечение (А1А2)\n",
    "$P((A1A2)A3) = P(A1A2)*P(A3)$\n",
    "\n",
    "Так как мы уже увидели, что $P(A1A2) = P(A1)*P(A2)$, спрведливо равенство:\n",
    "\n",
    "$P((A1A2)A3) = P(A1)*P(A2)*P(A3)$\n",
    "\n",
    "Одновременное наступление всех 3х событий означает, что все монеты выпали либо орлом, либо решкой, т.е. вероятность P((A1A2)A3) = 2/8 = 1/4\n",
    "\n",
    "Каждая из вероятностей P(Ai) = 4/8 = 1/2\n",
    "\n",
    "Подставим в формулу, получим, что:\n",
    "\n",
    "$1/4 = 1/2 * 1/2 * 1/2$\n",
    "\n",
    "Все 3 события в совокупности зависимы.\n",
    "Одновременное выполнение событий А1 и А2 уже гарантирует, что все монеты выпадут одной стороной, т.е. событие А3 в любом случае будет выполнено."
   ]
  },
  {
   "cell_type": "markdown",
   "metadata": {},
   "source": [
    "Задание 4"
   ]
  },
  {
   "cell_type": "code",
   "execution_count": 44,
   "metadata": {},
   "outputs": [
    {
     "name": "stdout",
     "output_type": "stream",
     "text": [
      "вероятность покупки продукции высшего сорта равна 0.135\n"
     ]
    }
   ],
   "source": [
    "A1 = 0.2 #продукция первого предприятия\n",
    "A2 = 0.3 #продукция второго предприятия\n",
    "A3 = 0.5 #продукция третьего предприятия\n",
    "p_A1 = 0.1 #вероятность, что продукция окажется высшего сорта, если она взята из первого предприятия\n",
    "p_A2 = 0.05 #вероятность, что продукция окажется высшего сорта, если она взята из второго предприятия\n",
    "p_A3 = 0.2 #вероятность, что продукция окажется высшего сорта, если она взята из третьего предприятия\n",
    "p_A = A1*p_A1 + A2*p_A2 + A3*p_A3\n",
    "print(f'вероятность покупки продукции высшего сорта равна {p_A}')"
   ]
  }
 ],
 "metadata": {
  "kernelspec": {
   "display_name": "Python 3",
   "language": "python",
   "name": "python3"
  },
  "language_info": {
   "codemirror_mode": {
    "name": "ipython",
    "version": 3
   },
   "file_extension": ".py",
   "mimetype": "text/x-python",
   "name": "python",
   "nbconvert_exporter": "python",
   "pygments_lexer": "ipython3",
   "version": "3.8.5"
  }
 },
 "nbformat": 4,
 "nbformat_minor": 4
}
